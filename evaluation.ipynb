{
 "cells": [
  {
   "cell_type": "code",
   "execution_count": 1,
   "metadata": {},
   "outputs": [],
   "source": [
    "import gradio as gr\n",
    "from sentence_transformers import SentenceTransformer\n",
    "import faiss\n",
    "import numpy as np\n",
    "import json\n",
    "import time"
   ]
  },
  {
   "cell_type": "code",
   "execution_count": 2,
   "metadata": {},
   "outputs": [],
   "source": [
    "with open('./data/processed_books_metadata.json') as f:\n",
    "    metadata = json.load(f)"
   ]
  },
  {
   "attachments": {},
   "cell_type": "markdown",
   "metadata": {},
   "source": [
    "### List of models to evaluate"
   ]
  },
  {
   "cell_type": "code",
   "execution_count": 3,
   "metadata": {},
   "outputs": [],
   "source": [
    "models = [\"msmarco-distilbert-cos-v5\", \"msmarco-MiniLM-L6-cos-v5\", \"msmarco-MiniLM-L12-cos-v5\", \"msmarco-distilbert-base-tas-b\", \"msmarco-distilbert-dot-v5\", \"msmarco-bert-base-dot-v5\"]"
   ]
  },
  {
   "attachments": {},
   "cell_type": "markdown",
   "metadata": {},
   "source": [
    "### Evaluation"
   ]
  },
  {
   "cell_type": "code",
   "execution_count": 4,
   "metadata": {},
   "outputs": [
    {
     "name": "stdout",
     "output_type": "stream",
     "text": [
      "Model: msmarco-distilbert-cos-v5\n",
      "Average inference + search time:  0.021935646350567158\n",
      "Top one accuracy: 0.6410256410256411, top five accuracy: 0.8589743589743589, top ten accuracy: 0.9230769230769231\n",
      "Model: msmarco-MiniLM-L6-cos-v5\n",
      "Average inference + search time:  0.009341148229745718\n",
      "Top one accuracy: 0.47435897435897434, top five accuracy: 0.7435897435897436, top ten accuracy: 0.8717948717948718\n",
      "Model: msmarco-MiniLM-L12-cos-v5\n",
      "Average inference + search time:  0.01883871738727276\n",
      "Top one accuracy: 0.48717948717948717, top five accuracy: 0.717948717948718, top ten accuracy: 0.7948717948717948\n",
      "Model: msmarco-distilbert-base-tas-b\n",
      "Average inference + search time:  0.02512053954295623\n",
      "Top one accuracy: 0.7435897435897436, top five accuracy: 0.9230769230769231, top ten accuracy: 0.9743589743589743\n",
      "Model: msmarco-distilbert-dot-v5\n",
      "Average inference + search time:  0.02353248840723282\n",
      "Top one accuracy: 0.7307692307692307, top five accuracy: 0.9487179487179487, top ten accuracy: 0.9615384615384616\n",
      "Model: msmarco-bert-base-dot-v5\n",
      "Average inference + search time:  0.05042961010566124\n",
      "Top one accuracy: 0.7435897435897436, top five accuracy: 0.9102564102564102, top ten accuracy: 0.9615384615384616\n"
     ]
    }
   ],
   "source": [
    "for model in models:\n",
    "    print(f\"Model: {model}\")\n",
    "    loaded_model = SentenceTransformer(f'sentence-transformers/{model}', device='cpu')\n",
    "    embeddings = np.load(f'./embeddings/{model}_emb.npy')\n",
    "    index = faiss.IndexFlatIP(embeddings.shape[1])\n",
    "    index.add(embeddings)\n",
    "    topone_acc = 0\n",
    "    topfive_acc = 0\n",
    "    topten_acc = 0\n",
    "    start = time.time()\n",
    "    for idx, book in enumerate(metadata):\n",
    "        query = book[\"Description\"]\n",
    "        query_embedding = loaded_model.encode([query])\n",
    "        D, I = index.search(query_embedding, 10)\n",
    "        I = list(I[0])\n",
    "        if I[0] == idx:\n",
    "            topone_acc += 1\n",
    "        if idx in I[:5]:\n",
    "            topfive_acc += 1\n",
    "        if idx in I:\n",
    "            topten_acc += 1\n",
    "    topone_acc /= len(metadata)\n",
    "    topfive_acc /= len(metadata)\n",
    "    topten_acc /= len(metadata)\n",
    "    print(\"Average inference + search time: \", (time.time() - start) / len(metadata))\n",
    "    print(f\"Top one accuracy: {topone_acc}, top five accuracy: {topfive_acc}, top ten accuracy: {topten_acc}\")\n",
    "    del loaded_model"
   ]
  }
 ],
 "metadata": {
  "kernelspec": {
   "display_name": "torch",
   "language": "python",
   "name": "python3"
  },
  "language_info": {
   "codemirror_mode": {
    "name": "ipython",
    "version": 3
   },
   "file_extension": ".py",
   "mimetype": "text/x-python",
   "name": "python",
   "nbconvert_exporter": "python",
   "pygments_lexer": "ipython3",
   "version": "3.10.11"
  },
  "orig_nbformat": 4
 },
 "nbformat": 4,
 "nbformat_minor": 2
}
