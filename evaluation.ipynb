{
 "cells": [
  {
   "cell_type": "code",
   "execution_count": 1,
   "metadata": {},
   "outputs": [],
   "source": [
    "import gradio as gr\n",
    "from sentence_transformers import SentenceTransformer\n",
    "import faiss\n",
    "import numpy as np\n",
    "import json"
   ]
  },
  {
   "cell_type": "code",
   "execution_count": 2,
   "metadata": {},
   "outputs": [],
   "source": [
    "cosine_similarity_model = SentenceTransformer('sentence-transformers/msmarco-distilbert-base-v4', device='cpu')\n",
    "cosine_similarity_embeddings = np.load('msmarco-distilbert-base-v4_emb.npy')\n",
    "cosine_similarity_embeddings_normalized = cosine_similarity_embeddings / np.linalg.norm(cosine_similarity_embeddings, axis=1)[:, None]\n",
    "cosine_similarity_index = faiss.IndexFlatIP(768)\n",
    "cosine_similarity_index.add(cosine_similarity_embeddings_normalized)"
   ]
  },
  {
   "cell_type": "code",
   "execution_count": 3,
   "metadata": {},
   "outputs": [],
   "source": [
    "dotprod_model = SentenceTransformer('sentence-transformers/msmarco-distilbert-base-tas-b', device='cpu')\n",
    "dotprod_embeddings = np.load('msmarco-distilbert-base-tas-b_emb.npy')\n",
    "dotprod_index = faiss.IndexFlatIP(768)\n",
    "dotprod_index.add(dotprod_embeddings)"
   ]
  },
  {
   "cell_type": "code",
   "execution_count": 4,
   "metadata": {},
   "outputs": [],
   "source": [
    "with open('processed_books_metadata.json') as f:\n",
    "    metadata = json.load(f)"
   ]
  },
  {
   "attachments": {},
   "cell_type": "markdown",
   "metadata": {},
   "source": [
    "### Test out dot prod model"
   ]
  },
  {
   "cell_type": "code",
   "execution_count": 16,
   "metadata": {},
   "outputs": [
    {
     "name": "stdout",
     "output_type": "stream",
     "text": [
      "Top one accuracy: 0.7435897435897436, top five accuracy: 0.9230769230769231, top ten accuracy: 0.9743589743589743\n"
     ]
    }
   ],
   "source": [
    "dotprod_topone_acc = 0\n",
    "dotprod_topfive_acc = 0\n",
    "dotprod_topten_acc = 0\n",
    "for idx, book in enumerate(metadata):\n",
    "    query = book[\"Description\"]\n",
    "    query_embedding = dotprod_model.encode([query])\n",
    "    D, I = dotprod_index.search(query_embedding, 10)\n",
    "    I = list(I[0])\n",
    "    if I[0] == idx:\n",
    "        dotprod_topone_acc += 1\n",
    "    if idx in I[:5]:\n",
    "        dotprod_topfive_acc += 1\n",
    "    if idx in I:\n",
    "        dotprod_topten_acc += 1\n",
    "dotprod_topone_acc /= len(metadata)\n",
    "dotprod_topfive_acc /= len(metadata)\n",
    "dotprod_topten_acc /= len(metadata)\n",
    "print(f\"Top one accuracy: {dotprod_topone_acc}, top five accuracy: {dotprod_topfive_acc}, top ten accuracy: {dotprod_topten_acc}\")"
   ]
  },
  {
   "attachments": {},
   "cell_type": "markdown",
   "metadata": {},
   "source": [
    "### Test out cosine similarity model"
   ]
  },
  {
   "cell_type": "code",
   "execution_count": 17,
   "metadata": {},
   "outputs": [
    {
     "name": "stdout",
     "output_type": "stream",
     "text": [
      "Top one accuracy: 0.5384615384615384, top five accuracy: 0.8717948717948718, top ten accuracy: 0.9102564102564102\n"
     ]
    }
   ],
   "source": [
    "cossim_topone_acc = 0\n",
    "cossim_topfive_acc = 0\n",
    "cossim_topten_acc = 0\n",
    "for idx, book in enumerate(metadata):\n",
    "    query = book[\"Description\"]\n",
    "    query_embedding = cosine_similarity_model.encode([query])\n",
    "    query_embedding = query_embedding / np.linalg.norm(query_embedding, axis=1)[:, None]\n",
    "    D, I = dotprod_index.search(query_embedding, 10)\n",
    "    I = list(I[0])\n",
    "    if I[0] == idx:\n",
    "        cossim_topone_acc += 1\n",
    "    if idx in I[:5]:\n",
    "        cossim_topfive_acc += 1\n",
    "    if idx in I:\n",
    "        cossim_topten_acc += 1\n",
    "cossim_topone_acc /= len(metadata)\n",
    "cossim_topfive_acc /= len(metadata)\n",
    "cossim_topten_acc /= len(metadata)\n",
    "print(f\"Top one accuracy: {cossim_topone_acc}, top five accuracy: {cossim_topfive_acc}, top ten accuracy: {cossim_topten_acc}\")"
   ]
  }
 ],
 "metadata": {
  "kernelspec": {
   "display_name": "torch",
   "language": "python",
   "name": "python3"
  },
  "language_info": {
   "codemirror_mode": {
    "name": "ipython",
    "version": 3
   },
   "file_extension": ".py",
   "mimetype": "text/x-python",
   "name": "python",
   "nbconvert_exporter": "python",
   "pygments_lexer": "ipython3",
   "version": "3.10.11"
  },
  "orig_nbformat": 4
 },
 "nbformat": 4,
 "nbformat_minor": 2
}
